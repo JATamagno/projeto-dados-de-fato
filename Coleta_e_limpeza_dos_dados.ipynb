{
  "nbformat": 4,
  "nbformat_minor": 0,
  "metadata": {
    "colab": {
      "provenance": []
    },
    "kernelspec": {
      "name": "python3",
      "display_name": "Python 3"
    },
    "language_info": {
      "name": "python"
    }
  },
  "cells": [
    {
      "cell_type": "code",
      "execution_count": null,
      "metadata": {
        "id": "iPAAubRUvAZe"
      },
      "outputs": [],
      "source": [
        "import pandas as pd\n",
        "from bs4 import BeautifulSoup\n",
        "import requests\n",
        "\n",
        "def extract_data(start, count):\n",
        "    url_da_api = f\"https://store.steampowered.com/search/results/?query&start={start}&count={count}&dynamic_data=&sort_by=_ASC&supportedlang=brazilian%2Cenglish&category1=998&os=linux%2Cmac%2Cwin&snr=1_7_7_230_7&infinite=1\"\n",
        "\n",
        "    response = requests.get(url_da_api)\n",
        "\n",
        "    if response.status_code == 200:\n",
        "        soup = BeautifulSoup(response.text, \"html.parser\")\n",
        "\n",
        "        links = soup.find_all(\"a\")\n",
        "\n",
        "        urls = []\n",
        "        ids = []\n",
        "        nomes = []\n",
        "\n",
        "        for link in links:\n",
        "            url = link.get(\"href\").replace('\"', '')\n",
        "\n",
        "            id_jogo = url.split(\"/\")[4]\n",
        "\n",
        "            nome_jogo = url.split(\"/\")[-2].replace(\"_\", \" \")\n",
        "\n",
        "            urls.append(url)\n",
        "            ids.append(id_jogo)\n",
        "            nomes.append(nome_jogo)\n",
        "\n",
        "        df = pd.DataFrame({\"URL\": urls, \"ID do Jogo\": ids, \"Nome do Jogo\": nomes})\n",
        "        df = df.applymap(lambda x: x.replace(\"\\\\\", \"\") if isinstance(x, str) else x)\n",
        "\n",
        "        return df\n",
        "\n",
        "    else:\n",
        "        print(f\"A solicitação falhou com o status code {response.status_code}\")\n",
        "        return None\n",
        "\n",
        "start = 0\n",
        "count = 100\n",
        "\n",
        "result_df = pd.DataFrame()\n",
        "\n",
        "while start <= 100:\n",
        "    df_chunk = extract_data(start, count)\n",
        "\n",
        "    if df_chunk is not None:\n",
        "        result_df = pd.concat([result_df, df_chunk], ignore_index=True)\n",
        "        start += count\n",
        "    else:\n",
        "        break\n",
        "\n",
        "print(result_df)\n"
      ]
    },
    {
      "cell_type": "code",
      "source": [
        "def get_app_details(appid):\n",
        "    url = f\"http://store.steampowered.com/api/appdetails/?appids={appid}\"\n",
        "    response = requests.get(url)\n",
        "    data = response.json()\n",
        "\n",
        "    if data and str(appid) in data:\n",
        "        app_data = data[str(appid)]\n",
        "        if app_data and 'data' in app_data:\n",
        "            return app_data['data']\n",
        "\n",
        "    return None\n",
        "\n",
        "column_mapping = {\n",
        "    'type': 'Tipo',\n",
        "    'required_age': 'Idade Requerida',\n",
        "    'is_free': 'É Grátis?',\n",
        "    'detailed_description': 'Descrição Detalhada',\n",
        "    'about_the_game': 'Sobre o Jogo',\n",
        "    'short_description': 'Descrição Curta',\n",
        "    'supported_languages': 'Línguas',\n",
        "    'header_image': 'Imagem Header',\n",
        "    'capsule_image': 'Imagem Capsule',\n",
        "    'capsule_imagev5': 'Imagem Capsule V5',\n",
        "    'website': 'Site',\n",
        "    'ext_user_account_notice': 'Aviso User Externo',\n",
        "    'developers': 'Desenvolvedores',\n",
        "    'publishers': 'Publicadores',\n",
        "    'platforms': 'Plataformas',\n",
        "    'categories': 'Categorias',\n",
        "    'genres': 'Gêneros',\n",
        "    'release_date': 'Data de lançamento'\n",
        "}\n",
        "\n",
        "desired_objects = list(column_mapping.keys())\n",
        "\n",
        "for obj in desired_objects:\n",
        "    result_df[column_mapping[obj]] = None\n",
        "\n",
        "for index, row in result_df.iterrows():\n",
        "    appid = row['ID do Jogo']\n",
        "    app_details = get_app_details(appid)\n",
        "\n",
        "    if app_details:\n",
        "        for obj in desired_objects:\n",
        "            if obj in app_details and obj not in ['name', 'steam_appid']:\n",
        "                result_df.at[index, column_mapping[obj]] = app_details[obj]\n",
        "\n",
        "print(result_df.head())\n"
      ],
      "metadata": {
        "id": "rCjwmB4HvBIy"
      },
      "execution_count": null,
      "outputs": []
    },
    {
      "cell_type": "code",
      "source": [
        "def get_api_info(appid):\n",
        "    url = f\"https://store.steampowered.com/appreviews/{appid}?json=1\"\n",
        "    try:\n",
        "        response = requests.get(url)\n",
        "        data = response.json()\n",
        "\n",
        "        if 'success' in data and data['success'] == 1:\n",
        "            query_summary = data['query_summary']\n",
        "            total_reviews = query_summary.get('total_reviews', 0)\n",
        "            total_negative = query_summary.get('total_negative', 0)\n",
        "            total_positive = query_summary.get('total_positive', 0)\n",
        "            review_score_desc = query_summary.get('review_score_desc', '')\n",
        "\n",
        "            return total_reviews, total_negative, total_positive, review_score_desc\n",
        "        else:\n",
        "            return None, None, None, None\n",
        "\n",
        "    except Exception as e:\n",
        "        return None, None, None, f\"Error: {str(e)}\"\n",
        "\n",
        "\n",
        "api_column_mapping = {\n",
        "    'total_reviews': 'Total de Reviews',\n",
        "    'total_negative': 'Total de Reviews Negativas',\n",
        "    'total_positive': 'Total de Reviews Positivas',\n",
        "    'review_score_desc': 'Descrição de Reviews'\n",
        "}\n",
        "\n",
        "for col in api_column_mapping.values():\n",
        "    result_df[col] = None\n",
        "\n",
        "result_df['Error'] = \"\"\n",
        "\n",
        "for index, row in result_df.iterrows():\n",
        "    appid = row['ID do Jogo']\n",
        "    total_reviews, total_negative, total_positive, review_score_desc = get_api_info(appid)\n",
        "\n",
        "    if total_reviews is not None:\n",
        "        for key, col_name in api_column_mapping.items():\n",
        "            result_df.at[index, col_name] = locals()[key]\n",
        "    else:\n",
        "        result_df.at[index, 'Error'] = \"Chamada à API falhou\"\n",
        "\n",
        "print(result_df)\n",
        "\n"
      ],
      "metadata": {
        "id": "7oKbM_Box_bT"
      },
      "execution_count": null,
      "outputs": []
    },
    {
      "cell_type": "code",
      "source": [
        "def extrair_texto_html(html):\n",
        "    if pd.notna(html):\n",
        "        soup = BeautifulSoup(html, 'html.parser')\n",
        "        return soup.get_text()\n",
        "    else:\n",
        "        return html\n",
        "\n",
        "colunas_para_tratar = ['Descrição Detalhada', 'Sobre o Jogo', 'Línguas']\n",
        "\n",
        "for coluna in colunas_para_tratar:\n",
        "    result_df[coluna] = result_df[coluna].apply(extrair_texto_html)\n",
        "\n",
        "print(result_df)\n"
      ],
      "metadata": {
        "id": "7N2InuMLRAfB"
      },
      "execution_count": null,
      "outputs": []
    },
    {
      "cell_type": "code",
      "source": [
        "def tratar_plataformas(plataformas_dict):\n",
        "    if pd.notna(plataformas_dict):\n",
        "        plataformas = [plataforma.capitalize() for plataforma, disponivel in plataformas_dict.items() if disponivel]\n",
        "        return ', '.join(plataformas)\n",
        "    else:\n",
        "        return ''\n",
        "\n",
        "result_df['Plataformas'] = result_df['Plataformas'].apply(tratar_plataformas)\n",
        "\n",
        "print(result_df)\n"
      ],
      "metadata": {
        "id": "t1dRkSnMTp_z"
      },
      "execution_count": null,
      "outputs": []
    },
    {
      "cell_type": "code",
      "source": [
        "def extrair_categorias(categorias_list):\n",
        "    if categorias_list is None:\n",
        "        return pd.Series({'Categoria Id': None, 'Categoria Descrição': None})\n",
        "\n",
        "    ids = [categoria['id'] if categoria is not None else None for categoria in categorias_list]\n",
        "    descricoes = [categoria['description'] if categoria is not None else None for categoria in categorias_list]\n",
        "    return pd.Series({'Categoria Id': ', '.join(map(str, ids)), 'Categoria Descrição': ', '.join(descricoes)})\n",
        "\n",
        "def extrair_generos(generos_list):\n",
        "    if generos_list is None:\n",
        "        return pd.Series({'Gênero Id': None, 'Gênero Descrição': None})\n",
        "\n",
        "    ids = [genero['id'] if genero is not None else None for genero in generos_list]\n",
        "    descricoes = [genero['description'] if genero is not None else None for genero in generos_list]\n",
        "    return pd.Series({'Gênero Id': ', '.join(map(str, ids)), 'Gênero Descrição': ', '.join(descricoes)})\n",
        "\n",
        "result_df[['Categoria Id', 'Categoria Descrição']] = result_df['Categorias'].apply(extrair_categorias)\n",
        "result_df[['Gênero Id', 'Gênero Descrição']] = result_df['Gêneros'].apply(extrair_generos)\n",
        "\n",
        "print(result_df)\n"
      ],
      "metadata": {
        "id": "Ac_GNnrUVvS6"
      },
      "execution_count": null,
      "outputs": []
    },
    {
      "cell_type": "code",
      "source": [
        "def extrair_data_lancamento(data_dict):\n",
        "    if pd.isna(data_dict):\n",
        "        return pd.Series({'Lançará em Breve': None, 'Data de Lançamento': None})\n",
        "\n",
        "    return pd.Series({'Lançará em Breve': data_dict.get('coming_soon'), 'Data de Lançamento': data_dict.get('date')})\n",
        "\n",
        "result_df[['Lançará em Breve', 'Data de Lançamento']] = result_df['Data de lançamento'].apply(extrair_data_lancamento)\n",
        "\n",
        "result_df['Data de Lançamento'] = pd.to_datetime(result_df['Data de Lançamento'], errors='coerce')\n",
        "\n",
        "result_df['Data de Lançamento'] = result_df['Data de Lançamento'].dt.strftime('%d/%m/%Y')\n",
        "\n",
        "print(result_df)\n"
      ],
      "metadata": {
        "id": "yjBSB9cTWgrS"
      },
      "execution_count": null,
      "outputs": []
    },
    {
      "cell_type": "code",
      "source": [
        "def transformar_em_string(valor):\n",
        "    if isinstance(valor, list):\n",
        "        return ', '.join(valor)\n",
        "    else:\n",
        "        return valor\n",
        "\n",
        "result_df['Desenvolvedores'] = result_df['Desenvolvedores'].apply(transformar_em_string)\n",
        "result_df['Publicadores'] = result_df['Publicadores'].apply(transformar_em_string)\n",
        "\n",
        "print(result_df)"
      ],
      "metadata": {
        "id": "OoZKpfbXia1b"
      },
      "execution_count": null,
      "outputs": []
    },
    {
      "cell_type": "code",
      "source": [
        "result_df = result_df.drop(['Categorias', 'Gêneros', 'Data de lançamento', 'Error'], axis=1)\n",
        "\n",
        "result_df.to_csv('dataset.csv')"
      ],
      "metadata": {
        "id": "Rl4h4W8uvE7I"
      },
      "execution_count": 26,
      "outputs": []
    }
  ]
}